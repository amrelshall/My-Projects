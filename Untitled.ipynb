{
 "cells": [
  {
   "cell_type": "code",
   "execution_count": 1,
   "metadata": {},
   "outputs": [
    {
     "name": "stdout",
     "output_type": "stream",
     "text": [
      "hello world\n"
     ]
    }
   ],
   "source": [
    "print(\"hello world\")"
   ]
  },
  {
   "cell_type": "code",
   "execution_count": 5,
   "metadata": {},
   "outputs": [
    {
     "name": "stdout",
     "output_type": "stream",
     "text": [
      "Enter number : 1020\n",
      "Enter number : 10\n",
      "Enter number : 20\n",
      "Enter number : 30\n",
      "Enter number : 40\n",
      "The 1st = \n",
      "1020.0\n",
      "The 2st = \n",
      "0\n"
     ]
    }
   ],
   "source": [
    "numbers = 5\n",
    "max_num1 = 0\n",
    "max_num2 = 0\n",
    "\n",
    "for i in range (numbers):\n",
    "    num = float(input('Enter number : '))\n",
    "    if num > max_num1:\n",
    "        max_num2 = max_num1\n",
    "        max_num1 = num \n",
    "    if num > max_num1 and num < max_num2:\n",
    "        max_num2 = num \n",
    "        \n",
    "print ('The 1st = ')\n",
    "print (max_num1)\n",
    "print ('The 2st = ')\n",
    "print (max_num2)\n"
   ]
  },
  {
   "cell_type": "code",
   "execution_count": null,
   "metadata": {},
   "outputs": [],
   "source": []
  }
 ],
 "metadata": {
  "kernelspec": {
   "display_name": "Python 3",
   "language": "python",
   "name": "python3"
  },
  "language_info": {
   "codemirror_mode": {
    "name": "ipython",
    "version": 3
   },
   "file_extension": ".py",
   "mimetype": "text/x-python",
   "name": "python",
   "nbconvert_exporter": "python",
   "pygments_lexer": "ipython3",
   "version": "3.7.3"
  }
 },
 "nbformat": 4,
 "nbformat_minor": 2
}
